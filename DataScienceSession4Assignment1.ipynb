{
 "cells": [
  {
   "cell_type": "markdown",
   "metadata": {
    "collapsed": true
   },
   "source": [
    "Problem_1.1 Write a Python Program(with class concepts) to find the area of the triangle using the below formula.                      \n",
    "                               area = (s*(s-a)*(s-b)*(s-c)) ** 0.5                                                                 \n",
    "Function to take the length of the sides of triangle from user should be defined in the parent class and function to calculate the area should be defined in subclass."
   ]
  },
  {
   "cell_type": "code",
   "execution_count": 28,
   "metadata": {},
   "outputs": [],
   "source": [
    "#Solution:\n",
    "\n",
    "#Parent class\n",
    "class Triangle:\n",
    "    #constructor of the class\n",
    "    def __init__(self):\n",
    "        sides=['a','b','c']\n",
    "        self.triangleSides=sides\n",
    "        \n",
    "        #set sides of the tringle\n",
    "    def setSides(self):\n",
    "        self.sidesOfTriangle=[input(\"Enter the Side \"+i+\" :\") for i in self.triangleSides]\n",
    "        \n",
    "#Sub class       \n",
    "class TriangleArea(Triangle):\n",
    "    #constructer of the class\n",
    "    def __init__(self):\n",
    "        #call parent constructer\n",
    "        Triangle.__init__(self)\n",
    "        \n",
    "    def areaOfTriangle(self):        \n",
    "        triangleSides=iter(self.sidesOfTriangle)\n",
    "        a=float(next(triangleSides))\n",
    "        b=float(next(triangleSides))\n",
    "        c=float(next(triangleSides))      \n",
    "           \n",
    "        # semi-perimeter (s) of Triangle         \n",
    "        s= (a+b+c)*0.5        \n",
    "        # Area of Triangle         \n",
    "        Area = (s*(s-a)*(s-b)*(s-c))**0.5    \n",
    "        print(\"The sides of triangle are a=\"+str(a)+\", b=\"+str(b)+\", c=\"+str(c))     \n",
    "        Area = ('The Area of the triangle is %0.2f' %Area )\n",
    "        #print Area\n",
    "        print(Area)"
   ]
  },
  {
   "cell_type": "markdown",
   "metadata": {},
   "source": [
    "Output :"
   ]
  },
  {
   "cell_type": "code",
   "execution_count": 29,
   "metadata": {},
   "outputs": [],
   "source": [
    "# object of Sub class TraingleArea\n",
    "AreaOfTriangle = TriangleArea()"
   ]
  },
  {
   "cell_type": "code",
   "execution_count": 30,
   "metadata": {},
   "outputs": [
    {
     "name": "stdout",
     "output_type": "stream",
     "text": [
      "Enter the Side a :3\n",
      "Enter the Side b :6\n",
      "Enter the Side c :7\n"
     ]
    }
   ],
   "source": [
    "#Enter the sides of Triangle\n",
    "AreaOfTriangle.setSides()"
   ]
  },
  {
   "cell_type": "code",
   "execution_count": 31,
   "metadata": {},
   "outputs": [
    {
     "name": "stdout",
     "output_type": "stream",
     "text": [
      "The sides of triangle are a=3.0, b=6.0, c=7.0\n",
      "The Area of the triangle is 8.94\n"
     ]
    }
   ],
   "source": [
    "# Calculate the Area Of Triangle\n",
    "AreaOfTriangle.areaOfTriangle()"
   ]
  },
  {
   "cell_type": "markdown",
   "metadata": {},
   "source": [
    "Problem_1.2 Write a function filter_long_words() that takes a list of words and an integer n and returns\n",
    "the list of words that are longer than n"
   ]
  },
  {
   "cell_type": "code",
   "execution_count": 32,
   "metadata": {},
   "outputs": [
    {
     "name": "stdout",
     "output_type": "stream",
     "text": [
      "Input:\n",
      "Please enter your words: vinod,hello,hi,how,are,me,you,gone,say,success\n",
      "Please enter your number: 3\n",
      "\n",
      " Output:\n",
      "\n",
      " The List of longest words , which  are longer than 3 is :\n"
     ]
    },
    {
     "data": {
      "text/plain": [
       "['vinod', 'hello', 'gone', 'success']"
      ]
     },
     "execution_count": 32,
     "metadata": {},
     "output_type": "execute_result"
    }
   ],
   "source": [
    "#Solution\n",
    "\n",
    "#Function to Filter words based on length\n",
    "def filter_long_words(wordList,n):   \n",
    "    #List Comprehensions\n",
    "    wordLists=[item.strip() for item in wordList if len(item.strip())>n]\n",
    "    \n",
    "    if(len(wordLists)>0):\n",
    "        print(\"\\n Output:\")\n",
    "        print(\"\\n The List of longest words , which  are longer than \"+str(n)+\" is :\")\n",
    "        return wordLists\n",
    "    else:\n",
    "        return \"No Words longer than given length \"+str(n)\n",
    "    \n",
    "# Enter the words\n",
    "print(\"Input:\")\n",
    "string= input(\"Please enter your words: \")\n",
    "number= int(input(\"Please enter your number: \"))\n",
    "\n",
    "# Split the words by \",\" comma and convert into list\n",
    "listOfWords = list(string.split(\",\"))\n",
    "#Function Execution\n",
    "filter_long_words(listOfWords,number)"
   ]
  },
  {
   "cell_type": "markdown",
   "metadata": {},
   "source": [
    "Problem_2.1 Write a Python program using function concept that maps list of words into a list of integers\n",
    "representing the lengths of the corresponding words .\n",
    "Hint: If a list [ ab,cde,erty] is passed on to the python function output should come as [2,3,4]\n",
    "Here 2,3 and 4 are the lengths of the words in the list."
   ]
  },
  {
   "cell_type": "code",
   "execution_count": 37,
   "metadata": {},
   "outputs": [
    {
     "name": "stdout",
     "output_type": "stream",
     "text": [
      "Input : Please enter comma seprated Words  : Hello, vinod , how, are , you\n",
      "Output: Length of Words are : [5, 5, 3, 3, 3]\n"
     ]
    }
   ],
   "source": [
    "#Solution\n",
    "\n",
    "#Function to map length of words with words \n",
    "def getWordsLength(givenList):\n",
    "    return list(map(len, givenList))\n",
    "\n",
    "wordList=list(input(\"Input : Please enter comma seprated Words  : \").split(\",\"))\n",
    "#List Comprehension has been done to remove white trailing white spaces\n",
    "userList=[x.strip() for x in wordList]\n",
    "#function Execution\n",
    "WordsLengths=getWordsLength(userList)\n",
    "\n",
    "print(\"Output: Length of Words are :\",WordsLengths )\n"
   ]
  },
  {
   "cell_type": "markdown",
   "metadata": {
    "collapsed": true
   },
   "source": [
    "Problem_2.2 Write a Python function which takes a character (i.e. a string of length 1) and returns True if\n",
    "it is a vowel, False otherwise."
   ]
  },
  {
   "cell_type": "code",
   "execution_count": 47,
   "metadata": {},
   "outputs": [
    {
     "name": "stdout",
     "output_type": "stream",
     "text": [
      "Enter character to check that it is Vowel or not\n",
      "Input Value: a\n",
      "Output Value: True\n"
     ]
    }
   ],
   "source": [
    "#Solution\n",
    "def checkVowels(givenChar):\n",
    "    if(len(givenChar)==1):\n",
    "        vowelList=['a','e','i','o','u']\n",
    "        if (givenChar.lower() in vowelList):\n",
    "            returnValue= True\n",
    "        else:\n",
    "            returnValue= False\n",
    "    else:\n",
    "        returnValue=\"Please enter a single character.\"        \n",
    "    return returnValue\n",
    "\n",
    "#Enter single character\n",
    "print(\"Enter character to check that it is Vowel or not\")\n",
    "inputValue = input(\"Input Value: \")\n",
    "# call function and store its value in a variable Function\n",
    "outputValue= checkVowels(inputValue) \n",
    "#Output\n",
    "print(\"Output Value:\",outputValue)"
   ]
  }
 ],
 "metadata": {
  "kernelspec": {
   "display_name": "Python 3",
   "language": "python",
   "name": "python3"
  },
  "language_info": {
   "codemirror_mode": {
    "name": "ipython",
    "version": 3
   },
   "file_extension": ".py",
   "mimetype": "text/x-python",
   "name": "python",
   "nbconvert_exporter": "python",
   "pygments_lexer": "ipython3",
   "version": "3.6.5"
  }
 },
 "nbformat": 4,
 "nbformat_minor": 2
}
